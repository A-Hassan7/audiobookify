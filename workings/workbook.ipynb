{
 "cells": [
  {
   "cell_type": "code",
   "execution_count": 1,
   "id": "08e0cba8-f688-451b-b9cb-f8f79ed96590",
   "metadata": {},
   "outputs": [],
   "source": [
    "import json\n",
    "from lxml import etree"
   ]
  },
  {
   "cell_type": "code",
   "execution_count": 2,
   "id": "6022431b-d966-47dc-9806-8ab957411cd5",
   "metadata": {},
   "outputs": [],
   "source": [
    "tree = etree.parse('all_young_dudes.html', etree.HTMLParser())\n",
    "root = tree.getroot()"
   ]
  },
  {
   "cell_type": "markdown",
   "id": "cc15d779",
   "metadata": {},
   "source": [
    "### Book Title"
   ]
  },
  {
   "cell_type": "code",
   "execution_count": 3,
   "id": "0134b08c",
   "metadata": {},
   "outputs": [],
   "source": [
    "book_data = {}"
   ]
  },
  {
   "cell_type": "code",
   "execution_count": 4,
   "id": "812a1845",
   "metadata": {},
   "outputs": [
    {
     "data": {
      "text/plain": [
       "'All the Young Dudes - MsKingBean89 - Harry Potter - J. K. Rowling'"
      ]
     },
     "execution_count": 4,
     "metadata": {},
     "output_type": "execute_result"
    }
   ],
   "source": [
    "# title\n",
    "book_title = root.xpath('head/title/text()')[0]\n",
    "book_data['title'] = book_title\n",
    "book_title"
   ]
  },
  {
   "cell_type": "markdown",
   "id": "f18c0328",
   "metadata": {},
   "source": [
    "### Tags\n",
    "\n",
    "I'm leaving these for now. It's formatted much better on the AO3 page. Quite crap to work with in the html download"
   ]
  },
  {
   "cell_type": "code",
   "execution_count": 5,
   "id": "11ef6e02",
   "metadata": {},
   "outputs": [],
   "source": [
    "# tags\n",
    "tags = root.xpath(\"//div[@class='meta']//dl[@class='tags']\")[0]"
   ]
  },
  {
   "cell_type": "code",
   "execution_count": 6,
   "id": "b055da7c",
   "metadata": {},
   "outputs": [],
   "source": [
    "# TODO: handle tags and read hrefs\n",
    "tag_labels = tags.xpath(\".//dt//text()\")\n",
    "tag_values = tags.xpath(\".//dd\")\n",
    "\n",
    "assert len(tag_labels) == len(tag_values)\n"
   ]
  },
  {
   "cell_type": "code",
   "execution_count": 7,
   "id": "cda3c151",
   "metadata": {},
   "outputs": [],
   "source": [
    "# tag_data = []\n",
    "# for label, values in zip(tag_labels, tag_values):\n",
    "\n",
    "#     # clean up label\n",
    "#     label = label[:-1] if label.endswith(':') else label\n",
    "#     label = label.lower()\n",
    "#     label = label.replace(' ', '_')\n",
    "\n",
    "#     # will get stats from the main page\n",
    "#     if label == 'stats':\n",
    "#         continue\n",
    "\n",
    "#     # convert values to list\n",
    "#     # most already are but some (like language) aren't\n",
    "#     if not isinstance(values, list):\n",
    "#         values = [values]\n",
    "\n",
    "#     values_list = []\n",
    "#     for value in values:\n",
    "\n",
    "#         attrs = {}\n",
    "\n",
    "#         # most tag values are links so I can grab both the href and the link text\n",
    "#         if value.tag == 'a':\n",
    "#             attrs['text'] = value.text\n",
    "#             attrs['link'] = value.get('href')\n",
    "\n",
    "#         # some tag values are just text\n",
    "#         if value.tag == 'dd':\n",
    "#             attrs['text'] = value.text.strip()\n",
    "#             attrs['link'] = None\n",
    "\n",
    "#     tag_data.append({\n",
    "#         'name': label,\n",
    "#         'values': values_list\n",
    "#     })\n",
    "\n",
    "# tag_data\n",
    "\n",
    "# test tags contain basic labels (language, stats)\n",
    "\n",
    "# book_data['tags'] = tag_data"
   ]
  },
  {
   "cell_type": "markdown",
   "id": "c1c17d75",
   "metadata": {},
   "source": [
    "### Chapters"
   ]
  },
  {
   "cell_type": "code",
   "execution_count": 8,
   "id": "53acc94a",
   "metadata": {},
   "outputs": [
    {
     "name": "stdout",
     "output_type": "stream",
     "text": [
      "188 chapters found\n"
     ]
    }
   ],
   "source": [
    "# create list of dicts for every chapter\n",
    "book = root.xpath(\"//div[@id='chapters']\")[0]\n",
    "\n",
    "chapter_metadata = book.xpath(\".//div[@class='meta group']\") # //*[@class='heading']//text()\")\n",
    "chapter_content = book.xpath(\".//div[@class='userstuff']\")\n",
    "\n",
    "# should have the same amount of chapter titles and content\n",
    "assert len(chapter_metadata) == len(chapter_content)\n",
    "\n",
    "chapters_data = []\n",
    "for meta, content in zip(chapter_metadata, chapter_content):\n",
    "\n",
    "    title = meta.xpath(\"./*[@class='heading']//text()\")\n",
    "    title = '\\n'.join(title).strip()\n",
    "\n",
    "    # everything in the meta group that isn't part of the chapter title\n",
    "    summary_and_notes_raw = meta.xpath(\".//text()[not(ancestor::*[@class='heading'])]\")\n",
    "    summary_and_notes_stripped = [item.strip() for item in summary_and_notes_raw]\n",
    "    summary_and_notes = '\\n'.join(summary_and_notes_stripped).strip()\n",
    "\n",
    "    text_raw = content.xpath(\".//text()\")\n",
    "    text_stripped = [item.strip() for item in text_raw]\n",
    "    text = '\\n'.join(text_stripped).strip()\n",
    "\n",
    "    chapter_dict = {\n",
    "        'title': title,\n",
    "        'summary_and_notes': summary_and_notes,\n",
    "        'content': text\n",
    "    }\n",
    "\n",
    "    chapters_data.append(chapter_dict)\n",
    "\n",
    "book_data['chapters'] = chapters_data\n",
    "\n",
    "print(f'{len(chapters_data)} chapters found')"
   ]
  },
  {
   "cell_type": "code",
   "execution_count": 10,
   "id": "1c8db87c",
   "metadata": {},
   "outputs": [],
   "source": [
    "# write data to json\n",
    "with open('book_data.json', 'w') as f:\n",
    "    json.dump(book_data, f)\n"
   ]
  },
  {
   "cell_type": "markdown",
   "id": "ad263652",
   "metadata": {},
   "source": [
    "### Tests"
   ]
  },
  {
   "cell_type": "code",
   "execution_count": 27,
   "id": "9516fe35",
   "metadata": {},
   "outputs": [],
   "source": [
    "assert book_data['title'] != None"
   ]
  },
  {
   "cell_type": "code",
   "execution_count": 28,
   "id": "bcd645a1",
   "metadata": {},
   "outputs": [],
   "source": [
    "assert len(book_data['chapters']) > 0"
   ]
  },
  {
   "cell_type": "code",
   "execution_count": 29,
   "id": "13841775",
   "metadata": {},
   "outputs": [],
   "source": [
    "for chapter in book_data['chapters']:\n",
    "\n",
    "    assert chapter['title'] is not None\n",
    "    assert chapter['title'].strip() != ''\n",
    "\n",
    "    assert chapter['content'] is not None\n",
    "    assert chapter['content'].strip() != ''\n"
   ]
  },
  {
   "cell_type": "code",
   "execution_count": null,
   "id": "ab6c6c66",
   "metadata": {},
   "outputs": [],
   "source": []
  },
  {
   "cell_type": "code",
   "execution_count": null,
   "id": "27dbf3bc",
   "metadata": {},
   "outputs": [],
   "source": []
  },
  {
   "cell_type": "code",
   "execution_count": null,
   "id": "25fafa0e",
   "metadata": {},
   "outputs": [],
   "source": []
  },
  {
   "cell_type": "code",
   "execution_count": null,
   "id": "43208e6a-764c-496e-ab9f-90ac3575ccf7",
   "metadata": {},
   "outputs": [],
   "source": []
  }
 ],
 "metadata": {
  "kernelspec": {
   "display_name": "env",
   "language": "python",
   "name": "python3"
  },
  "language_info": {
   "codemirror_mode": {
    "name": "ipython",
    "version": 3
   },
   "file_extension": ".py",
   "mimetype": "text/x-python",
   "name": "python",
   "nbconvert_exporter": "python",
   "pygments_lexer": "ipython3",
   "version": "3.13.0"
  }
 },
 "nbformat": 4,
 "nbformat_minor": 5
}
